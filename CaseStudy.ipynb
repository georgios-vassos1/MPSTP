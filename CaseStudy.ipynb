{
 "cells": [
  {
   "cell_type": "code",
   "execution_count": null,
   "id": "f9a8a893-7e85-4c46-9cd4-1ed6e9942178",
   "metadata": {},
   "outputs": [],
   "source": [
    "using JuMP, SDDP, HiGHS, Gurobi\n",
    "using DataStructures\n",
    "using Distributions, Statistics\n",
    "using Test\n",
    "using HDF5"
   ]
  },
  {
   "cell_type": "markdown",
   "id": "bf4d1097-7a27-4673-b7bf-dd371aa99cb9",
   "metadata": {},
   "source": [
    "# Performance of SDDP"
   ]
  },
  {
   "cell_type": "code",
   "execution_count": null,
   "id": "4ffcd449-cce2-4cc2-99d0-422502fc3a66",
   "metadata": {},
   "outputs": [],
   "source": [
    "# In Julia this struct is immutable\n",
    "struct HyperParams\n",
    "    tau             ::Int64\n",
    "    nOrigins        ::Int64\n",
    "    nDestinations   ::Int64\n",
    "    nLanes          ::Int64\n",
    "    nSpotLanes      ::Int64\n",
    "    nCarriers       ::Int64\n",
    "    Bids            ::Vector{Vector{Int64}}\n",
    "    Winners         ::OrderedDict{Int64, Vector{Int64}}\n",
    "    CarrierIdx      ::Vector{Vector{Int64}}\n",
    "    SpotIdx         ::Vector{Vector{Int64}}\n",
    "    # from_           ::Vector{Vector{Int64}}\n",
    "    from_           ::Dict{Symbol, Vector{Vector{Int64}}}\n",
    "    # to_             ::Vector{Vector{Int64}}\n",
    "    to_             ::Dict{Symbol, Vector{Vector{Int64}}}\n",
    "    entry_stock_0   ::Vector{Int64}\n",
    "    exit_stock_0    ::Vector{Int64}\n",
    "    exit_short_0    ::Vector{Int64}\n",
    "    entry_capacity  ::Vector{Int64}\n",
    "    exit_capacity   ::Vector{Int64}\n",
    "    flow_support    ::Vector{NTuple}\n",
    "    entry_store_coef::Vector{Float64}\n",
    "    exit_store_coef ::Vector{Float64}\n",
    "    exit_short_coef ::Vector{Float64}\n",
    "    transport_coef  ::Vector{Float64}\n",
    "    spot_coef       ::Vector{Float64}\n",
    "    carrier_capacity::Vector{Int64}\n",
    "end\n",
    "\n",
    "# Outer constructor with arguments\n",
    "function HyperParams(; \n",
    "                     tau             ::Int64 = 5,\n",
    "                     nOrigins        ::Int64 = 2,\n",
    "                     nDestinations   ::Int64 = 2,\n",
    "                     nCarriers       ::Int64 = 3,\n",
    "                     Bids            ::Vector{Vector{Int64}} = [[1, 2, 3, 4],\n",
    "                                                                [1, 4],\n",
    "                                                                [2, 3],\n",
    "                                                                [1, 3, 4],\n",
    "                                                                [2, 4]],\n",
    "                     Winners         ::OrderedDict{Int64, Vector{Int64}} = OrderedDict(\n",
    "                                                                             1 => [2, 3], \n",
    "                                                                             2 => [4, 5], \n",
    "                                                                             3 => [1]),\n",
    "                     entry_stock_0   ::Vector{Int64} = [200, 200],\n",
    "                     exit_stock_0    ::Vector{Int64} = [0, 0],\n",
    "                     exit_short_0    ::Vector{Int64} = [0, 0],\n",
    "                     entry_capacity  ::Vector{Int64} = [1000, 1000],\n",
    "                     exit_capacity   ::Vector{Int64} = [1000, 1000],\n",
    "                     flow_support    ::Vector{Int64} = collect(100:10:500),\n",
    "                     entry_store_coef::Vector{Float64} = [20.0, 20.0],\n",
    "                     exit_store_coef ::Vector{Float64} = [10.0, 10.0],\n",
    "                     exit_short_coef ::Vector{Float64} = [30.0, 30.0],\n",
    "                     transport_coef  ::Vector{Float64} = [ 4.8, 3.3, 6, 6.9, 7.3, 5.9, 5.8, 5.4, 3.3, 6.4, 6.9, 5.2, 6.3 ], \n",
    "                     spot_coef       ::Vector{Float64} = [2.80, 2.85, 3.30, 3.84, 3.39, # Lane 1 - Carrier 1\n",
    "                                                          3.58, 3.37, 2.64, 2.81, 4.31, # Lane 2 - Carrier 1\n",
    "                                                          4.47, 4.07, 3.76, 4.20, 2.95, # Lane 3 - Carrier 1\n",
    "                                                          3.79, 4.02, 2.56, 3.55, 4.69, # Lane 4 - Carrier 1\n",
    "                                                          4.63, 2.84, 4.41, 4.91, 4.79, # Lane 1 - Carrier 2\n",
    "                                                          3.44, 4.83, 3.70, 2.94, 2.83, # Lane 2 - Carrier 2\n",
    "                                                          4.60, 4.53, 3.39, 2.89, 3.87, # Lane 3 - Carrier 2\n",
    "                                                          2.82, 4.50, 4.97, 4.85, 4.48, # Lane 4 - Carrier 2\n",
    "                                                          2.64, 4.55, 3.53, 3.26, 3.76, # Lane 1 - Carrier 3\n",
    "                                                          4.53, 4.40, 3.25, 3.97, 4.71, # Lane 2 - Carrier 3\n",
    "                                                          4.61, 3.15, 3.24, 4.15, 2.52, # Lane 3 - Carrier 3\n",
    "                                                          4.40, 3.89, 3.79, 3.21, 3.78],# Lane 4 - Carrier 3\n",
    "                     carrier_capacity::Vector{Int64} = [160, 100, 140, 120, 100,  # Carrier 1\n",
    "                                                        140, 100, 160, 180, 100,  # Carrier 2\n",
    "                                                        100, 100, 100, 100, 100,  # Carrier 3\n",
    "                                                         30,  30,  30,  30,  30,  # Carrier 1\n",
    "                                                         30,  30,  30,  30,  30,  # Carrier 2\n",
    "                                                         30,  30,  30,  30,  30], # Carrier 3\n",
    "                     N::Int64 = 100)\n",
    "\n",
    "    from_ = Dict{Int64, Vector{Int64}}()\n",
    "    for i in 1:nOrigins\n",
    "        from_[i] = (collect(1:nDestinations) .- 1) .* nOrigins .+ i\n",
    "    end\n",
    "\n",
    "    to_ = Dict{Int64, Vector{Int64}}()\n",
    "    for j in 1:nDestinations\n",
    "        to_[j] = (j .- 1) .* nOrigins .+ collect(1:nOrigins)\n",
    "    end\n",
    "\n",
    "    ordx = vcat(collect(values(Winners))...)\n",
    "    Ldx  = vcat(Bids[ordx]...)\n",
    "    spotLdx = repeat(1:(nOrigins * nDestinations), nCarriers) # Spot\n",
    "\n",
    "    nLc = [0; cumsum([ length(vcat(Bids[Winners[cdx]]...)) for cdx in 1:nCarriers ])]\n",
    "\n",
    "    strategicIdx = [ collect(nLc[i] + 1 : nLc[i + 1]) for i in 1:length(nLc) - 1 ]\n",
    "    spotIdx      = [ collect(((i - 1)*(nOrigins * nDestinations) + 1):i * (nOrigins * nDestinations)) for i in 1:nCarriers ]\n",
    "\n",
    "    HyperParams(\n",
    "        tau,\n",
    "        nOrigins,\n",
    "        nDestinations,\n",
    "        nLc[end], # nLanes\n",
    "        nOrigins * nDestinations * nCarriers, # nSpotLanes (exhaustive)\n",
    "        nCarriers,\n",
    "        Bids,\n",
    "        Winners,\n",
    "        [ strategicIdx; [nLc[end] .+ idx for idx in spotIdx] ],   # CarrierIdx\n",
    "        spotIdx, # Spotdx\n",
    "        # [ findall(lane -> lane in from_[i], Ldx) for i in 1:nOrigins ],    # from_\n",
    "        Dict(\n",
    "            :SG => [ findall(lane -> lane in from_[i], Ldx) for i in 1:nOrigins ], \n",
    "            :SP => [ findall(lane -> lane in from_[i], spotLdx) .+ nLc[end] for i in 1:nOrigins ]),\n",
    "        # [ findall(lane -> lane in to_[j], Ldx) for j in 1:nDestinations ], # to_\n",
    "        Dict(\n",
    "            :SG => [ findall(lane -> lane in to_[j], Ldx) for j in 1:nDestinations ], \n",
    "            :SP => [ findall(lane -> lane in to_[j], spotLdx) .+ nLc[end] for j in 1:nDestinations ]),\n",
    "        entry_stock_0,\n",
    "        exit_stock_0,\n",
    "        exit_short_0,\n",
    "        entry_capacity,\n",
    "        exit_capacity,\n",
    "        # vec(collect(Base.product(ntuple(_ -> flow_support, nOrigins + nDestinations)...))), # Exhaustive \n",
    "        unique([ntuple(_ -> rand(flow_support), nOrigins + nDestinations) for _ in 1:N]), # N draws from the exhaustive sample\n",
    "        entry_store_coef,\n",
    "        exit_store_coef,\n",
    "        exit_short_coef,\n",
    "        transport_coef,\n",
    "        spot_coef,\n",
    "        carrier_capacity)\n",
    "end"
   ]
  },
  {
   "cell_type": "code",
   "execution_count": null,
   "id": "ab529a2e-e480-41df-aa9f-2c1b14820284",
   "metadata": {},
   "outputs": [],
   "source": [
    "function transportation_t(sp::Model, stage::Int64; config::HyperParams)\n",
    "    ## State variables\n",
    "    @variables(sp, begin\n",
    "        0 <= entry[i = 1:config.nOrigins],      (SDDP.State, initial_value = config.entry_stock_0[i])\n",
    "        0 <= exitp[j = 1:config.nDestinations], (SDDP.State, initial_value = config.exit_stock_0[j])\n",
    "        0 <= exitm[j = 1:config.nDestinations], (SDDP.State, initial_value = config.exit_short_0[j])\n",
    "        0 <= move[k  = 1:(config.nLanes + config.nSpotLanes)]\n",
    "        inflow[ i = 1:config.nOrigins]\n",
    "        outflow[j = 1:config.nDestinations]\n",
    "    end)\n",
    "    ## Decision variables\n",
    "    ## Constraints\n",
    "    # Carrier capacity (Contract and Spot)\n",
    "    @constraint(sp, [k = 1:(2 * config.nCarriers)], sum(move[config.CarrierIdx[k]]) <= config.carrier_capacity[(k - 1) * config.tau + stage])\n",
    "    # Entry volume\n",
    "    @constraint(sp, [i = 1:config.nOrigins], sum(move[config.from_[:SG][i]]) + sum(move[config.from_[:SP][i]]) <= entry[i].in + inflow[i])\n",
    "    # Storage limit\n",
    "    @constraint(sp, [j = 1:config.nDestinations], exitp[j].in + sum(move[config.to_[:SG][j]]) + sum(move[config.to_[:SP][j]]) <= config.exit_capacity[j])\n",
    "    # Transition\n",
    "    @constraint(sp, [i = 1:config.nOrigins],      entry[i].out == entry[i].in + inflow[i] - sum(move[config.from_[:SG][i]]) - sum(move[config.from_[:SP][i]]))\n",
    "    @constraint(sp, [j = 1:config.nDestinations], exitp[j].out - exitm[j].out == exitp[j].in - exitm[j].in + sum(move[config.to_[:SG][j]]) + sum(move[config.to_[:SP][j]]) - outflow[j])\n",
    "    # Uncertain variables\n",
    "    Ξ = config.flow_support[rand(1:length(config.flow_support), 10)] # Training with uniform sampling (distribution agnostic)\n",
    "    # Ξ = [ rand(Poisson(1500), config.nOrigins + config.nDestinations) for _ in 1:10 ] # No need for that!\n",
    "    SDDP.parameterize(sp, Ξ) do ξ\n",
    "        JuMP.fix.(inflow,  ξ[1:config.nOrigins])\n",
    "        JuMP.fix.(outflow, ξ[config.nOrigins .+ (1:config.nDestinations)])\n",
    "    end\n",
    "    kdx = vec(((1:config.nCarriers)' .- 1) * config.nOrigins * config.nDestinations * config.tau .+ (config.SpotIdx[1] .- 1) * config.tau .+ stage)\n",
    "    ## Objective function\n",
    "    @stageobjective(sp, \n",
    "        sum(config.entry_store_coef[i] * entry[i].in for i in 1:config.nOrigins)      + \n",
    "        sum(config.exit_store_coef[j]  * exitp[j].in for j in 1:config.nDestinations) + \n",
    "        sum(config.exit_short_coef[j]  * exitm[j].in for j in 1:config.nDestinations) + \n",
    "        # sum(sum(config.transport_coef[config.CarrierIdx[k]] .* move[config.CarrierIdx[k]]) for k in 1:config.nCarriers) + \n",
    "        sum(config.transport_coef[1:config.nLanes] .* move[1:config.nLanes]) + \n",
    "        # sum(sum(config.spot_coef[(k - 1) * config.nOrigins * config.nDestinations * config.tau .+ (config.SpotIdx[1] .- 1) * config.tau .+ stage] .* move[config.CarrierIdx[config.nCarriers + k]]) for k in 1:config.nCarriers)\n",
    "        sum(config.spot_coef[kdx] .* move[(config.nLanes + 1):(config.nLanes + config.nSpotLanes)])\n",
    "    )\n",
    "end"
   ]
  },
  {
   "cell_type": "markdown",
   "id": "1e51d1a7-f3ee-4bbf-82ae-df96228176d3",
   "metadata": {},
   "source": [
    "## 4 time periods with 4x4 ODs and 3 carriers"
   ]
  },
  {
   "cell_type": "code",
   "execution_count": null,
   "id": "f53acb12-1f90-4b3b-8304-772620116069",
   "metadata": {},
   "outputs": [],
   "source": [
    "# Hyperparameter configuration\n",
    "config = HyperParams(\n",
    "    tau             = 4,\n",
    "    nOrigins        = 4,\n",
    "    nDestinations   = 4,\n",
    "    nCarriers       = 3,\n",
    "    Bids            = [[ 1,  2,  3,  4,  5,  6,  7,  8],\n",
    "                       [ 5,  6,  7,  8,  9, 10, 11, 12],\n",
    "                       [10, 11, 12, 13, 14, 15, 16],\n",
    "                       [ 1,  2,  3,  4,  8,  9, 10, 11],\n",
    "                       [ 5,  6,  7,  8, 13, 14, 15, 16]],\n",
    "    entry_stock_0   = [500, 500, 500, 500],\n",
    "    exit_stock_0    = [0, 0, 0, 0],\n",
    "    exit_short_0    = [0, 0, 0, 0],\n",
    "    entry_capacity  = [1000, 1000, 1000, 1000],\n",
    "    exit_capacity   = [1000, 1000, 1000, 1000],\n",
    "    flow_support    = collect(0:100:500),\n",
    "    entry_store_coef= [2.0, 2.0, 2.0, 2.0],\n",
    "    exit_store_coef = [1.0, 1.0, 1.0, 1.0],\n",
    "    exit_short_coef = [3.0, 3.0, 3.0, 3.0],\n",
    "    transport_coef  = [ 2.0, 1.7, 2.1, 3.3, 2.0, 1.7, 2.1, 3.3, 2.0, 1.7, 2.1, 3.3, 2.0, 1.7, 2.1, 3.3,   # Carrier 1 / Lane 1 - 16\n",
    "                        1.7, 1.9, 2.6, 3.7, 1.7, 1.9, 2.6, 3.7, 1.7, 1.9, 2.6, 3.7, 1.7, 1.9, 2.6, 3.7,   # Carrier 2 / Lane 1 - 16\n",
    "                        2.4, 1.2, 2.9, 3.1, 2.4, 1.2, 2.9, 3.1, 2.4, 1.2, 2.9, 3.1, 2.4, 1.2, 2.9, 3.1 ], # Carrier 3 / Lane 1 - 16\n",
    "    carrier_capacity= [160, 100, 140, 120,  # Carrier 1 / Time Stage 1 - 4\n",
    "                       140, 100, 160, 180,  # Carrier 2 / Time Stage 1 - 4\n",
    "                       300, 300, 300, 300 ] # Carrier 3 / Time Stage 1 - 4\n",
    ");"
   ]
  },
  {
   "cell_type": "markdown",
   "id": "64985b13-1f0d-49ce-a502-a10cb02d4e86",
   "metadata": {},
   "source": [
    "## 12 time periods with 4x4 ODs and 3 carriers"
   ]
  },
  {
   "cell_type": "code",
   "execution_count": null,
   "id": "c2a16b83-4600-472d-af93-cf2b13a36d43",
   "metadata": {},
   "outputs": [],
   "source": [
    "# Hyperparameter configuration\n",
    "config = HyperParams(\n",
    "    tau             = 12,\n",
    "    nOrigins        =  4,\n",
    "    nDestinations   =  4,\n",
    "    nCarriers       =  3,\n",
    "    Bids            = [[ 1,  2,  3,  4,  5,  6,  7,  8],\n",
    "                       [ 5,  6,  7,  8,  9, 10, 11, 12],\n",
    "                       [10, 11, 12, 13, 14, 15, 16],\n",
    "                       [ 1,  2,  3,  4,  8,  9, 10, 11],\n",
    "                       [ 5,  6,  7,  8, 13, 14, 15, 16]],\n",
    "    entry_stock_0   = [200, 100, 50,   0],\n",
    "    exit_stock_0    = [  0, 100,  0, 100],\n",
    "    exit_short_0    = [  0,   0,  0,   0],\n",
    "    entry_capacity  = [1000, 1000, 1000, 1000],\n",
    "    exit_capacity   = [1000, 1000, 1000, 1000],\n",
    "    flow_support    = collect(0:500), # [  0, 100, 300, 500],\n",
    "    entry_store_coef= [2.0, 2.0, 2.0, 2.0],\n",
    "    exit_store_coef = [1.0, 1.0, 1.0, 1.0],\n",
    "    exit_short_coef = [3.0, 3.0, 3.0, 3.0],\n",
    "    transport_coef  = [2.89, 3.94, 3.77, 3.89, 3.29, 2.05, 5.79, 5.97, 5.69, 4.39, \n",
    "                       5.54, 3.74, 4.67, 2.03, 2.22, 5.44, 4.94, 4.75, 2.64, 3.25, \n",
    "                       5.64, 2.00, 5.51, 2.84, 3.15, 3.77, 4.95, 2.32, 5.35, 5.20, \n",
    "                       5.15, 5.68, 4.75, 3.68, 3.23, 3.03, 2.13, 4.55, 4.85],\n",
    "    carrier_capacity= [150, 150, 100, 150, 150, 100, 100,  50, 150, 150,  50,  50, \n",
    "                       100, 150, 100,  50, 150, 100, 100,  50, 150, 150, 100, 100, \n",
    "                       100, 100, 150,  50, 100, 150,  50, 150,  50, 150, 100,  50 ],\n",
    "    N = 10000000\n",
    ");"
   ]
  },
  {
   "cell_type": "markdown",
   "id": "4a39dce1-a439-4fcc-9811-f22abfdc1862",
   "metadata": {},
   "source": [
    "## Train"
   ]
  },
  {
   "cell_type": "code",
   "execution_count": null,
   "id": "0fd27f88-c1df-49c1-9e7e-ac61946e51fe",
   "metadata": {},
   "outputs": [],
   "source": [
    "config = HyperParams();"
   ]
  },
  {
   "cell_type": "code",
   "execution_count": null,
   "id": "0c3af672-8f66-4b38-b4c5-7a3d58dcf30e",
   "metadata": {},
   "outputs": [],
   "source": [
    "model = SDDP.PolicyGraph(\n",
    "    (sp, stage) -> transportation_t(sp, stage; config = config),\n",
    "    SDDP.LinearGraph(config.tau);\n",
    "    sense       = :Min,\n",
    "    lower_bound = 0.0,\n",
    "    optimizer   = Gurobi.Optimizer,\n",
    ")"
   ]
  },
  {
   "cell_type": "code",
   "execution_count": null,
   "id": "be8605ae-9bac-4849-b4ac-d780b0a3f403",
   "metadata": {},
   "outputs": [],
   "source": [
    "@time SDDP.train(model;\n",
    "    iteration_limit = 1000,\n",
    "    cut_type        = SDDP.SINGLE_CUT,\n",
    "    parallel_scheme = SDDP.Serial(),\n",
    ")"
   ]
  },
  {
   "cell_type": "code",
   "execution_count": null,
   "id": "2acf7a48-8468-4cc6-a247-493634f81c74",
   "metadata": {},
   "outputs": [],
   "source": [
    "simulations = SDDP.simulate(\n",
    "    # The trained model to simulate.\n",
    "    model,\n",
    "    # The number of replications.\n",
    "    1000,\n",
    "    # A list of names to record the values of.\n",
    "    [:move, :inflow, :outflow, :entry, :exitp, :exitm],\n",
    ");"
   ]
  },
  {
   "cell_type": "code",
   "execution_count": null,
   "id": "bfd61373-7178-4bf6-bf93-b711f85c8787",
   "metadata": {},
   "outputs": [],
   "source": [
    "# Simulated objectives\n",
    "obj = map(sim -> sum(node[:stage_objective] for node in sim), simulations);\n",
    "\n",
    "# Scenarios\n",
    "noise = vcat([ vcat([collect(ξ)' for ξ in map(node -> node[:noise_term], sim)]...) for sim in simulations ]...);"
   ]
  },
  {
   "cell_type": "code",
   "execution_count": null,
   "id": "9b639fe4-818d-4140-97b8-75c59f70c78b",
   "metadata": {},
   "outputs": [],
   "source": [
    "h5write(joinpath(pwd(), \"output/5x2x2x3_sims.h5\"), \"5x2x2x3_trials10_obj_sims10e3\", obj)\n",
    "h5write(joinpath(pwd(), \"output/5x2x2x3_sims.h5\"), \"5x2x2x3_trials10_ksi_sims10e3\", noise)"
   ]
  },
  {
   "cell_type": "code",
   "execution_count": null,
   "id": "10681647-da37-4e3f-b358-ac0355f65092",
   "metadata": {},
   "outputs": [],
   "source": [
    "KsiN = reduce(vcat, [collect(v)' for v in config.flow_support]);"
   ]
  },
  {
   "cell_type": "code",
   "execution_count": null,
   "id": "47ac856b-b38d-454f-9b0e-11dbb51a6045",
   "metadata": {},
   "outputs": [],
   "source": [
    "vsbs = collect(setdiff(Set(eachrow(KsiN)), Set(eachrow(unique(noise, dims=1)))));\n",
    "out_of_bag = hcat([collect(sbarr) for sbarr in vsbs]...)';"
   ]
  },
  {
   "cell_type": "code",
   "execution_count": null,
   "id": "d283b8dd-4a72-4410-93a5-9e1c07438b13",
   "metadata": {},
   "outputs": [],
   "source": [
    "idx = sample(1:size(out_of_bag, 1), 1000 * config.tau, replace=true);"
   ]
  },
  {
   "cell_type": "code",
   "execution_count": null,
   "id": "1a4d42a6-4f3d-4d2a-a900-f8d380e9295e",
   "metadata": {},
   "outputs": [],
   "source": [
    "out_of_bag_N = [ [(t, out_of_bag[idx[(i - 1) * config.tau + t],:]) for t in 1:config.tau] for i in 1:1000 ];"
   ]
  },
  {
   "cell_type": "code",
   "execution_count": null,
   "id": "f0f275d9-c095-4b3f-a3e8-de7ac2db79ce",
   "metadata": {},
   "outputs": [],
   "source": [
    "simulxtions = SDDP.simulate(\n",
    "    model, \n",
    "    1000,\n",
    "    [:move, :inflow, :outflow, :entry, :exitp, :exitm]; \n",
    "    sampling_scheme = SDDP.Historical(out_of_bag_N), \n",
    "    parallel_scheme = SDDP.Threaded());"
   ]
  },
  {
   "cell_type": "code",
   "execution_count": null,
   "id": "bad9c07c-eeff-4f68-bc77-4201df1abc44",
   "metadata": {},
   "outputs": [],
   "source": [
    "# Simulated objectives\n",
    "objx = map(sim -> sum(node[:stage_objective] for node in sim), simulxtions);\n",
    "\n",
    "# Scenarios\n",
    "noisex = vcat([ vcat([collect(ξ)' for ξ in map(node -> node[:noise_term], sim)]...) for sim in simulxtions ]...);"
   ]
  },
  {
   "cell_type": "code",
   "execution_count": null,
   "id": "e0d44b64-dcb1-407f-946d-43cb6b37ff69",
   "metadata": {},
   "outputs": [],
   "source": [
    "h5write(joinpath(pwd(), \"output/5x2x2x3_sims.h5\"), \"5x2x2x3_trials10_obj_oob10e3\", objx)\n",
    "h5write(joinpath(pwd(), \"output/5x2x2x3_sims.h5\"), \"5x2x2x3_trials10_ksi_oob10e3\", noisex)"
   ]
  },
  {
   "cell_type": "markdown",
   "id": "7e1e53a8-81c3-45d4-ac6d-40e7c8f5e188",
   "metadata": {},
   "source": [
    "# Scaling to realistic instances"
   ]
  },
  {
   "cell_type": "code",
   "execution_count": null,
   "id": "2dbe53e5-c699-4486-8839-edca4638a8e6",
   "metadata": {},
   "outputs": [],
   "source": [
    "using JSON3"
   ]
  },
  {
   "cell_type": "code",
   "execution_count": null,
   "id": "a1f1af82-31ca-47ec-8e25-b747ee358d0b",
   "metadata": {},
   "outputs": [],
   "source": [
    "ic = JSON3.read(joinpath(pwd(), \"instances/instance_12x6x6x20_001.json\"));\n",
    "# Hyperparameter configuration\n",
    "config = HyperParams(\n",
    "    tau             = ic[:tau][1],\n",
    "    nOrigins        = ic[:nOrigins][1],\n",
    "    nDestinations   = ic[:nDestinations][1],\n",
    "    nCarriers       = ic[:nCarriers][1],\n",
    "    Bids            = map(x -> Vector{Int64}(x), ic[:Bids]),\n",
    "    Winners         = OrderedDict(k => Vector{Int64}(ic[:winners][k]) for k in 1:length(ic[:winners])),\n",
    "    entry_stock_0   = Vector{Int64}(ic[:entry_stock_0]),\n",
    "    exit_stock_0    = Vector{Int64}(ic[:exit_stock_0]),\n",
    "    exit_short_0    = Vector{Int64}(ic[:exit_short_0]),\n",
    "    entry_capacity  = Vector{Int64}(ic[:entry_capacity]), # [10000, 10000, 10000, 10000, 10000, 10000], \n",
    "    exit_capacity   = Vector{Int64}(ic[:exit_capacity]),  # [10000, 10000, 10000, 10000, 10000, 10000], \n",
    "    flow_support    = Vector{Int64}(ic[:flow_support]),\n",
    "    entry_store_coef= Vector{Float64}(ic[:entry_store_coef]),\n",
    "    exit_store_coef = Vector{Float64}(ic[:exit_store_coef]),\n",
    "    exit_short_coef = Vector{Float64}(ic[:exit_short_coef]),\n",
    "    transport_coef  = Vector{Float64}(ic[:transport_coef]),\n",
    "    spot_coef       = Vector{Float64}(ic[:spot_coef]),\n",
    "    carrier_capacity= Vector{Int64}(ic[:carrier_capacity]),\n",
    "    N = 10000000\n",
    ");"
   ]
  },
  {
   "cell_type": "code",
   "execution_count": null,
   "id": "5e4efe19-33ad-4269-accd-5bf365e2f94c",
   "metadata": {},
   "outputs": [],
   "source": [
    "model = SDDP.PolicyGraph(\n",
    "    (sp, stage) -> transportation_t(sp, stage; config = config),\n",
    "    SDDP.LinearGraph(config.tau);\n",
    "    sense       = :Min,\n",
    "    lower_bound = 0.0,\n",
    "    optimizer   = Gurobi.Optimizer,\n",
    ")"
   ]
  },
  {
   "cell_type": "code",
   "execution_count": null,
   "id": "638b7fc6-a666-402f-ad54-bc24b7e59547",
   "metadata": {},
   "outputs": [],
   "source": [
    "SDDP.train(model;\n",
    "    iteration_limit = 1500,\n",
    "    cut_type        = SDDP.SINGLE_CUT,\n",
    "    parallel_scheme = SDDP.Serial(),\n",
    ")"
   ]
  },
  {
   "cell_type": "code",
   "execution_count": null,
   "id": "56426535-0978-46fa-8565-60f9b9cd3893",
   "metadata": {},
   "outputs": [],
   "source": [
    "trials = 1000;"
   ]
  },
  {
   "cell_type": "code",
   "execution_count": null,
   "id": "d660ac67-55d3-4325-919a-ee74f9ee826d",
   "metadata": {},
   "outputs": [],
   "source": [
    "simulations = SDDP.simulate(\n",
    "    # The trained model to simulate.\n",
    "    model,\n",
    "    # The number of replications.\n",
    "    trials,\n",
    "    # A list of names to record the values of.\n",
    "    [:move, :inflow, :outflow, :entry, :exitp, :exitm],\n",
    ");"
   ]
  },
  {
   "cell_type": "code",
   "execution_count": null,
   "id": "3bb3d117-2797-434a-b7ef-f131d57f06c9",
   "metadata": {},
   "outputs": [],
   "source": [
    "# Simulated objectives\n",
    "obj = map(sim -> sum(node[:stage_objective] for node in sim), simulations);\n",
    "\n",
    "# Scenarios\n",
    "noise = vcat([ vcat([collect(ξ)' for ξ in map(node -> node[:noise_term], sim)]...) for sim in simulations ]...);"
   ]
  },
  {
   "cell_type": "code",
   "execution_count": null,
   "id": "bed41f6c-645a-4e39-9a29-aa3b6777f052",
   "metadata": {},
   "outputs": [],
   "source": [
    "h5write(joinpath(pwd(), \"output/12x6x6x20_10x1000_sims.h5\"), \"12x6x6x20_Unif10x1500_obj_sims10e3\", obj)\n",
    "h5write(joinpath(pwd(), \"output/12x6x6x20_10x1000_sims.h5\"), \"12x6x6x20_Unif10x1500_ksi_sims10e3\", noise)"
   ]
  },
  {
   "cell_type": "code",
   "execution_count": null,
   "id": "5e447776-f5cf-4199-a190-81d6e9e849b1",
   "metadata": {},
   "outputs": [],
   "source": [
    "KsiN = reduce(vcat, [collect(v)' for v in config.flow_support]);\n",
    "\n",
    "vsbs = collect(setdiff(Set(eachrow(KsiN)), Set(eachrow(unique(noise, dims=1)))));\n",
    "out_of_bag = hcat([collect(sbarr) for sbarr in vsbs]...)';\n",
    "\n",
    "idx = sample(1:size(out_of_bag, 1), trials * config.tau, replace=false);\n",
    "out_of_bag_N = [ [(t, out_of_bag[idx[(i - 1) * config.tau + t],:]) for t in 1:config.tau] for i in 1:trials ];"
   ]
  },
  {
   "cell_type": "code",
   "execution_count": null,
   "id": "105d7876-45d6-4eaf-be58-243b7c174852",
   "metadata": {},
   "outputs": [],
   "source": [
    "# # Different out-of-sample distribution\n",
    "# out_of_bag_N = [ [(t, rand(Poisson(1500), config.nOrigins + config.nDestinations)) for t in 1:config.tau] for i in 1:trials ];"
   ]
  },
  {
   "cell_type": "code",
   "execution_count": null,
   "id": "52038e40-6471-4186-82d5-d4126f2701a6",
   "metadata": {},
   "outputs": [],
   "source": [
    "simulxtions = SDDP.simulate(\n",
    "    model, \n",
    "    trials,\n",
    "    [:move, :inflow, :outflow, :entry, :exitp, :exitm]; \n",
    "    sampling_scheme = SDDP.Historical(out_of_bag_N), \n",
    "    parallel_scheme = SDDP.Threaded());"
   ]
  },
  {
   "cell_type": "code",
   "execution_count": null,
   "id": "c2dcafd4-e44b-4110-acd9-4fd423903db0",
   "metadata": {},
   "outputs": [],
   "source": [
    "# Simulated objectives\n",
    "objx = map(sim -> sum(node[:stage_objective] for node in sim), simulxtions);\n",
    "\n",
    "# Scenarios\n",
    "noisex = vcat([ vcat([collect(ξ)' for ξ in map(node -> node[:noise_term], sim)]...) for sim in simulxtions ]...);"
   ]
  },
  {
   "cell_type": "code",
   "execution_count": null,
   "id": "006f240a-6209-48c3-a215-fb24cd3ce3ac",
   "metadata": {},
   "outputs": [],
   "source": [
    "h5write(joinpath(pwd(), \"output/12x6x6x20_10x1000_sims.h5\"), \"12x6x6x20_Unif10x1500_obj_oob10e3\", objx)\n",
    "h5write(joinpath(pwd(), \"output/12x6x6x20_10x1000_sims.h5\"), \"12x6x6x20_Unif10x1500_ksi_oob10e3\", noisex)"
   ]
  },
  {
   "cell_type": "markdown",
   "id": "566247e2-78f7-49f1-bfe4-6a3db496ecb4",
   "metadata": {},
   "source": [
    "# Realistic uncertainty model"
   ]
  },
  {
   "cell_type": "code",
   "execution_count": null,
   "id": "0aa05d20-b76a-49e3-b790-eceaaabe03f5",
   "metadata": {},
   "outputs": [],
   "source": []
  },
  {
   "cell_type": "code",
   "execution_count": null,
   "id": "4fddd91c-db81-4d43-be86-b73bc6b586c9",
   "metadata": {},
   "outputs": [],
   "source": []
  },
  {
   "cell_type": "markdown",
   "id": "e1b11135-a787-4394-9cf4-0c04eec09749",
   "metadata": {},
   "source": [
    "# Spot market uncertainty"
   ]
  },
  {
   "cell_type": "code",
   "execution_count": null,
   "id": "7c7b6fd5-6e09-40b1-abe6-687e26b7da96",
   "metadata": {},
   "outputs": [],
   "source": []
  },
  {
   "cell_type": "code",
   "execution_count": null,
   "id": "34135fdf-3dd3-4e81-9273-0983b3a2630e",
   "metadata": {},
   "outputs": [],
   "source": []
  },
  {
   "cell_type": "markdown",
   "id": "f668d224-e601-4ed8-98df-094673590db6",
   "metadata": {},
   "source": [
    "# Manual instance"
   ]
  },
  {
   "cell_type": "code",
   "execution_count": null,
   "id": "83aded26-fbaa-4b8b-9547-9fc713dfb199",
   "metadata": {},
   "outputs": [],
   "source": [
    "# # Hyperparameter configuration\n",
    "# config = HyperParams(\n",
    "#     tau             = 12,\n",
    "#     nOrigins        = 6,\n",
    "#     nDestinations   = 6,\n",
    "#     nCarriers       = 20,\n",
    "#     Bids            = [[6, 23, 35, 21, 4, 1, 7, 17, 33, 25, 29, 32, 13, 30, 31, 14],\n",
    "#                        [20, 28, 16, 27, 31, 25, 35, 2, 1, 14, 18, 9, 34, 10],\n",
    "#                        [28, 5, 24, 21, 26, 19, 33, 20, 8, 2, 16, 29],\n",
    "#                        [16, 20, 32, 35, 30, 19],\n",
    "#                        [8, 21, 3, 23, 24, 28, 27, 30, 31, 1, 33, 9, 29],\n",
    "#                        [35, 23, 18, 17, 31, 10, 2, 16, 9, 6, 11, 1], \n",
    "#                        [33, 31, 28, 4, 29, 30, 5, 16, 9, 20, 1, 36, 32], \n",
    "#                        [18, 24, 32, 31, 26, 25, 23, 19, 36, 20, 27, 29, 1, 34, 11], \n",
    "#                        [13, 20, 14, 29, 27, 8, 26, 19, 11, 12, 6, 24, 5, 34, 17],\n",
    "#                        [9, 12, 6, 8, 29, 1, 36, 4, 33, 30, 17]\n",
    "#                       ],\n",
    "#     Winners         = OrderedDict(\n",
    "#                          1 => [10, 6], \n",
    "#                          2 => [8], \n",
    "#                          3 => [3, 6], \n",
    "#                          4 => [3], \n",
    "#                          5 => [7], \n",
    "#                          6 => [8], \n",
    "#                          7 => [7], \n",
    "#                          8 => [9], \n",
    "#                          9 => [6], \n",
    "#                         10 => [8, 6], \n",
    "#                         11 => [2], \n",
    "#                         12 => [6, 1], \n",
    "#                         13 => [4, 3], \n",
    "#                         14 => [1, 3], \n",
    "#                         15 => [5], \n",
    "#                         16 => [1, 4], \n",
    "#                         17 => [3, 8], \n",
    "#                         18 => [5], \n",
    "#                         19 => [1, 4], \n",
    "#                         20 => [1] ),\n",
    "#     entry_stock_0   = [200, 100,  50,   0,   0, 100],\n",
    "#     exit_stock_0    = [100,   0,   0, 200, 100, 100],\n",
    "#     exit_short_0    = [  0,   0,   0,   0,   0,   0],\n",
    "#     entry_capacity  = [5000, 5000, 5000, 5000, 5000, 5000],\n",
    "#     exit_capacity   = [5000, 5000, 5000, 5000, 5000, 5000],\n",
    "#     flow_support    = collect(1000:100:3000),\n",
    "#     entry_store_coef= [20.0, 20.0, 20.0, 20.0, 20.0, 20.0],\n",
    "#     exit_store_coef = [10.0, 10.0, 10.0, 10.0, 10.0, 10.0],\n",
    "#     exit_short_coef = [30.0, 30.0, 30.0, 30.0, 30.0, 30.0],\n",
    "#     transport_coef  = [\n",
    "#         6.21, 6.67, 5.08, 8.67, 5.09, 5.63, 7.65, 4.90, 5.70, 7.38, 6.78, 6.22, 5.69, 5.62, 7.25, \n",
    "#         6.31, 5.47, 5.21, 4.70, 4.34, 7.07, 5.94, 6.42, 5.87, 4.16, 4.64, 5.90, 6.20, 6.81, 7.47, \n",
    "#         5.85, 5.66, 5.05, 5.10, 6.37, 5.84, 6.89, 5.13, 4.79, 4.45, 6.31, 7.21, 6.75, 6.96, 5.99, \n",
    "#         5.61, 5.46, 4.99, 6.07, 4.95, 5.78, 7.35, 3.58, 7.44, 5.50, 5.90, 7.30, 7.22, 5.65, 6.83, \n",
    "#         6.59, 6.83, 7.48, 7.06, 6.27, 7.93, 6.19, 5.52, 5.17, 5.72, 5.51, 8.71, 6.02, 5.26, 7.42, \n",
    "#         5.38, 7.84, 6.06, 5.43, 5.30, 6.14, 6.94, 3.57, 6.47, 5.88, 4.52, 8.06, 6.03, 4.86, 5.00, \n",
    "#         6.45, 2.15, 6.22, 5.32, 5.84, 6.22, 5.56, 4.78, 5.94, 5.90, 5.78, 5.63, 6.49, 7.23, 4.94, \n",
    "#         6.24, 6.60, 4.64, 5.80, 6.78, 6.28, 5.19, 6.76, 7.21, 5.86, 5.98, 7.63, 5.39, 5.44, 4.61, \n",
    "#         5.22, 4.97, 5.32, 6.36, 6.02, 6.13, 5.58, 6.10, 5.85, 6.69, 4.86, 5.69, 6.92, 6.56, 7.03, \n",
    "#         4.71, 5.96, 6.04, 4.23, 7.58, 5.20, 6.90, 5.21, 7.00, 7.62, 6.28, 7.47, 6.00, 5.89, 7.86, \n",
    "#         4.91, 5.72, 6.91, 6.75, 5.49, 5.79, 6.33, 7.00, 6.26, 6.13, 7.24, 8.42, 8.72, 4.80, 6.20, \n",
    "#         6.49, 7.42, 5.84, 5.80, 5.90, 5.97, 4.87, 6.35, 4.98, 7.63, 5.61, 6.74, 6.41, 6.77, 7.06, \n",
    "#         4.70, 4.29, 5.74, 6.56, 6.21, 6.13, 6.01, 6.25, 7.97, 5.24, 4.66, 7.52, 5.19, 4.95, 6.19, \n",
    "#         6.49, 7.39, 6.05, 4.35, 7.27, 5.73, 5.58, 4.81, 4.01, 5.72, 5.03, 5.91, 6.02, 8.06, 7.10, \n",
    "#         5.57, 6.41, 5.44, 5.46, 6.48, 5.14, 6.26, 7.47, 4.90, 8.29, 6.17, 7.41, 5.74, 6.65, 6.75, \n",
    "#         6.30, 4.82, 5.66, 5.54, 5.47, 7.27, 4.56, 6.86, 4.24, 6.95, 6.73, 4.62, 6.34, 6.70, 4.48, \n",
    "#         7.89, 6.46, 4.94, 5.69, 4.87, 6.20, 4.90, 5.24, 8.35, 5.30, 6.03, 7.68, 5.21, 5.48, 6.13, \n",
    "#         4.24, 5.46, 6.08, 5.53, 4.41, 5.21, 5.98, 5.95, 4.76, 8.25, 6.01, 6.14, 6.94, 4.80, 6.74, \n",
    "#         6.79, 5.72, 7.94, 6.06, 6.32, 7.41, 8.44, 6.27, 4.90, 7.82, 5.30, 6.92, 4.92, 5.81, 5.26, \n",
    "#         4.59, 7.24, 5.63, 6.56, 5.43, 5.95, 6.15, 5.53, 5.06, 6.54, 4.97, 7.40, 5.77, 6.28, 6.78, \n",
    "#         4.60, 5.54, 4.83, 6.61, 5.32, 4.89, 2.63, 5.90, 6.57, 3.56, 6.98, 8.08, 6.26, 5.67, 6.50, \n",
    "#         5.22, 3.43, 7.05, 5.20, 5.22, 6.49, 6.40, 7.20, 5.56, 6.21, 5.85, 3.13, 4.25, 7.08, 7.50, \n",
    "#         6.60, 2.99, 4.88, 6.00, 6.31, 5.61, 4.77, 6.67, 6.76, 5.01, 5.06, 5.25, 4.40, 4.88, 6.50, \n",
    "#         5.97, 5.80, 5.31, 6.16, 5.99, 6.85, 5.78, 7.32, 6.84, 5.62, 7.18, 4.34, 5.44, 5.07, 5.74, \n",
    "#         6.31, 5.87, 5.28, 6.77, 5.47, 6.39, 5.83, 7.07, 4.30, 5.28], # map(x -> round(x, digits = 2), rand(Uniform(4.0, 8.0), 225)), # Carrier 3 / Lane 1 - 16\n",
    "#     carrier_capacity= [\n",
    "#         800, 700, 700, 500, 700, 500, 700, 800, 400, 400, 500, 700, \n",
    "#         400, 500, 500, 800, 500, 700, 500, 400, 400, 700, 800, 500, \n",
    "#         700, 800, 800, 500, 500, 800, 400, 800, 800, 700, 500, 500, \n",
    "#         600, 400, 500, 800, 800, 700, 700, 400, 400, 700, 700, 400, \n",
    "#         400, 400, 500, 700, 600, 600, 500, 700, 600, 600, 500, 700, \n",
    "#         800, 400, 500, 600, 700, 400, 800, 400, 600, 800, 400, 700, \n",
    "#         800, 500, 600, 700, 800, 400, 800, 800, 700, 400, 600, 400, \n",
    "#         700, 600, 700, 500, 400, 500, 600, 400, 600, 700, 700, 800, \n",
    "#         400, 600, 500, 800, 600, 500, 500, 400, 800, 700, 800, 500, \n",
    "#         400, 500, 700, 700, 500, 400, 400, 400, 700, 800, 500, 700, \n",
    "#         400, 800, 400, 500, 400, 500, 500, 700, 800, 600, 400, 700, \n",
    "#         800, 600, 800, 400, 800, 500, 400, 700, 400, 500, 600, 700, \n",
    "#         500, 800, 700, 800, 500, 700, 400, 400, 800, 400, 600, 600, \n",
    "#         800, 400, 500, 800, 600, 800, 500, 400, 500, 600, 800, 800, \n",
    "#         500, 800, 500, 700, 700, 600, 500, 400, 800, 800, 600, 500, \n",
    "#         600, 800, 800, 600, 800, 800, 400, 600, 500, 500, 500, 800, \n",
    "#         500, 700, 800, 400, 500, 600, 500, 800, 600, 500, 500, 800, \n",
    "#         600, 500, 700, 800, 700, 700, 800, 800, 500, 500, 400, 700, \n",
    "#         700, 700, 800, 800, 500, 600, 600, 500, 700, 700, 500, 800, \n",
    "#         700, 600, 700, 700, 700, 800, 600, 400, 600, 500, 700, 600\n",
    "#     ], # rand(30:70, 20 * 12)\n",
    "#     N = 10000000\n",
    "# );"
   ]
  }
 ],
 "metadata": {
  "kernelspec": {
   "display_name": "Julia 1.11.1",
   "language": "julia",
   "name": "julia-1.11"
  },
  "language_info": {
   "file_extension": ".jl",
   "mimetype": "application/julia",
   "name": "julia",
   "version": "1.11.1"
  }
 },
 "nbformat": 4,
 "nbformat_minor": 5
}
