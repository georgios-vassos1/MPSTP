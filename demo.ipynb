{
 "cells": [
  {
   "cell_type": "markdown",
   "id": "fc6b7c14-93d3-4b0a-8bc8-5db88d871a6a",
   "metadata": {},
   "source": [
    "# Farm Planning"
   ]
  },
  {
   "cell_type": "markdown",
   "id": "b362c411-5735-47ea-9ca3-b70b1c4668a5",
   "metadata": {},
   "source": [
    "This problem describes a European farmer's decision on how to divide their 500 acres of land among three crops: wheat, corn, and sugar beets. Each crop has specific characteristics, market prices, and requirements that impact the farmer's decision.\n",
    "\n",
    "## Land Allocation Decision:\n",
    "\n",
    "- The farmer wants to decide, during winter, how much of the 500 acres to dedicate to each crop.\n",
    "- The farmer grows wheat and corn mainly to meet feed requirements for cattle, needing at least 200 tons of wheat and 240 tons of corn.\n",
    "- If the farm doesn’t produce enough of these amounts, the farmer can buy wheat and corn from a wholesaler, but at a 40% higher price than selling prices due to added costs.\n",
    "\n",
    "## Crop Sales and Prices:\n",
    "\n",
    "- Wheat and corn can be sold if production exceeds the feed requirements.\n",
    "- Based on past years, the farmer expects to sell wheat at \\\\$170/ton and corn at \\\\$150/ton. However, if they need to buy wheat or corn to meet feed needs, the prices increase to \\\\$238/ton for wheat and \\\\$210 perton for corn.\n",
    "- Sugar beets are a profitable crop with a selling price of \\\\$36/ton, but there is a restriction: the farmer can sell only up to 6,000 tons at this price. Any sugar beet production beyond 6,000 tons can be sold only at a lower price of \\$10/ton due to a quota imposed by the European Commission.\n",
    "\n",
    "## Expected Yields:\n",
    "\n",
    "- Based on past experience, the farmer has an average yield expectation per acre:\n",
    "    - Wheat: 2.5 tons per acre.\n",
    "    - Corn: 3 tons per acre.\n",
    "    - Sugar beets: 20 tons per acre.\n",
    "These yields help estimate how much land is needed for each crop to meet feed requirements and how much could be sold.\n",
    "\n",
    "## Uncertainty in Crop Yields:\n",
    "\n",
    "- Yields vary year by year depending on weather and other conditions.\n",
    "- This problem assumes all crops will have similar changes in yield based on whether it’s a \"good,\" \"fair,\" or \"bad\" year:\n",
    "    - In a good year, all crops yield 20% above the average.\n",
    "    - In a fair year, all crops yield at the average level.\n",
    "    - In a bad year, all crops yield 20% below the average.\n",
    "- This approach simplifies uncertainty by assuming that environmental conditions impact all crops similarly (for example, good weather benefits all crops, and bad weather affects all negatively)."
   ]
  },
  {
   "cell_type": "code",
   "execution_count": null,
   "id": "b2647bae-bbd8-4934-be1d-dab46eca6d6e",
   "metadata": {},
   "outputs": [],
   "source": [
    "using SDDP, JuMP, HiGHS, Gurobi"
   ]
  },
  {
   "cell_type": "code",
   "execution_count": null,
   "id": "b01f0cec-dd76-472e-9383-fa5e019f46fb",
   "metadata": {},
   "outputs": [],
   "source": [
    "struct ProbParams\n",
    "    max_area        ::Float64\n",
    "    crops           ::Vector{Symbol}\n",
    "    planting_cost   ::Dict{Symbol, Float64}\n",
    "    min_quantities  ::Dict{Symbol, Float64}\n",
    "    quota_max       ::Dict{Symbol, Float64}\n",
    "    sell_in_quota   ::Dict{Symbol, Float64}\n",
    "    sell_no_quota   ::Dict{Symbol, Float64}\n",
    "    buy_price       ::Dict{Symbol, Float64}\n",
    "    mean_yield      ::Dict{Symbol, Float64}\n",
    "    yield_multiplier::Dict{Symbol, Float64}\n",
    "end"
   ]
  },
  {
   "cell_type": "code",
   "execution_count": null,
   "id": "04b12b48-df3d-4db7-98b0-8883b35e65d4",
   "metadata": {},
   "outputs": [],
   "source": [
    "function planning_t(sp::Model, stage::Int64; params::ProbParams)\n",
    "    @variable(sp, area[c = params.crops] >= 0, SDDP.State, initial_value = 0)\n",
    "    if stage == 1\n",
    "        @constraint(sp, sum(sp[:area][c].out for c in params.crops) <= params.max_area)\n",
    "        @stageobjective(sp, - sum(params.planting_cost[c] * sp[:area][c].out for c in params.crops))\n",
    "    else\n",
    "        @variables(sp, begin\n",
    "            0 <= yield[c = params.crops]\n",
    "            0 <= buy[c = params.crops]\n",
    "            0 <= sell_in_quota[c = params.crops] <= params.quota_max[c]\n",
    "            0 <= sell_no_quota[c = params.crops]\n",
    "        end)\n",
    "        @constraint(sp, [c = params.crops], \n",
    "            sp[:yield][c] + sp[:buy][c] - sp[:sell_in_quota][c] - sp[:sell_no_quota][c] >= params.min_quantities[c]\n",
    "        )\n",
    "        @constraint(sp, uncertainty[c = params.crops], 1.0 * sp[:area][c].in == sp[:yield][c])\n",
    "        SDDP.parameterize(sp, collect(keys(config.yield_multiplier))) do ξ\n",
    "            for c in params.crops\n",
    "                JuMP.set_normalized_coefficient(\n",
    "                    uncertainty[c], sp[:area][c].in, params.mean_yield[c] * params.yield_multiplier[ξ],\n",
    "                )\n",
    "            end\n",
    "        end\n",
    "        @stageobjective(sp,\n",
    "            sum(\n",
    "                params.sell_in_quota[c] * sp[:sell_in_quota][c] +\n",
    "                params.sell_no_quota[c] * sp[:sell_no_quota][c] -\n",
    "                params.buy_price[c] * sp[:buy][c] for c in params.crops\n",
    "            )\n",
    "        )\n",
    "    end\n",
    "end"
   ]
  },
  {
   "cell_type": "code",
   "execution_count": null,
   "id": "7bbdae28-77e4-43e5-bba0-2722a7f57e7b",
   "metadata": {},
   "outputs": [],
   "source": [
    "config = ProbParams(\n",
    "    500.0,\n",
    "    [:wheat, :corn, :sugar_beet],\n",
    "    Dict(:wheat => 150.0, :corn => 230.0, :sugar_beet => 260.0),\n",
    "    Dict(:wheat => 200.0, :corn => 240.0, :sugar_beet => 0.0),\n",
    "    Dict(:wheat => Inf  , :corn => Inf  , :sugar_beet => 6_000.0),\n",
    "    Dict(:wheat => 170.0, :corn => 150.0, :sugar_beet => 36.0),\n",
    "    Dict(:wheat => 0.0  , :corn => 0.0  , :sugar_beet => 10.0),\n",
    "    Dict(:wheat => 238.0, :corn => 210.0, :sugar_beet => 1_000.0),\n",
    "    Dict(:wheat => 2.5  , :corn => 3.0  , :sugar_beet => 20.0),\n",
    "    Dict(:good  => 1.2  , :fair => 1.0  , :bad        => 0.8)\n",
    ")"
   ]
  },
  {
   "cell_type": "code",
   "execution_count": null,
   "id": "711af971-45a2-42da-b67a-e975983af45c",
   "metadata": {},
   "outputs": [],
   "source": [
    "model = SDDP.LinearPolicyGraph(\n",
    "    (sp, stage) -> planning_t(sp, stage; params = config);  # Closure with params\n",
    "    stages = 2,\n",
    "    sense  = :Max,\n",
    "    upper_bound = 500_000.0,\n",
    "    optimizer   = HiGHS.Optimizer,\n",
    ")"
   ]
  },
  {
   "cell_type": "code",
   "execution_count": null,
   "id": "6d2ecc78-9ca4-401d-a200-9c95dd35d6f3",
   "metadata": {},
   "outputs": [],
   "source": [
    "SDDP.train(model; iteration_limit = 40)"
   ]
  },
  {
   "cell_type": "markdown",
   "id": "f0870080-71af-41f9-b532-82a8ab2c59fa",
   "metadata": {},
   "source": [
    "# Newsvendor"
   ]
  },
  {
   "cell_type": "code",
   "execution_count": null,
   "id": "0851676b-a36b-4a25-a6f2-75e30868c4b6",
   "metadata": {},
   "outputs": [],
   "source": [
    "using SDDP, HiGHS, Statistics, Test"
   ]
  },
  {
   "cell_type": "code",
   "execution_count": null,
   "id": "9d8dff81-5bfb-46ad-8408-a97303f12b35",
   "metadata": {},
   "outputs": [],
   "source": [
    "function get_uncertainty_support(; kwargs...)\n",
    "    names  = tuple([first(kw) for kw in kwargs]...)\n",
    "    values = tuple([last(kw) for kw in kwargs]...)\n",
    "    output_type  = NamedTuple{names, Tuple{eltype.(values)...}}\n",
    "    support = map(output_type, Base.product(values...))\n",
    "    return support[:]\n",
    "end"
   ]
  },
  {
   "cell_type": "code",
   "execution_count": null,
   "id": "fb19bf8c-cac0-4fba-80dc-512f6979bed4",
   "metadata": {},
   "outputs": [],
   "source": [
    "## Expanding the get_uncertainty_support function\n",
    "\n",
    "# Create a dictionary with parameters `supply` and `eps` each associated with ranges of values\n",
    "kwargs = Dict(:supply => 0:0.05:0.5, :eps => [-0.25, -0.125, 0.125, 0.25])\n",
    "# Extract the keys from `kwargs` as a tuple to use as names for fields in a NamedTuple\n",
    "names  = tuple([key for key in keys(kwargs)]...)\n",
    "# Extract the values from `kwargs` as a tuple to use as values for fields in a NamedTuple\n",
    "vals   = tuple([value for value in values(kwargs)]...)\n",
    "# Define the output type as a NamedTuple with field names `names` and field types matching `vals`\n",
    "output_type = NamedTuple{names, Tuple{eltype.(vals)...}}\n",
    "# Generate the cartesian product of all possible value combinations in `vals`\n",
    "cartesian_product = collect(Base.product(vals...))\n",
    "# Map each combination in the cartesian product to the `output_type` NamedTuple format\n",
    "distribution = map(output_type, cartesian_product)"
   ]
  },
  {
   "cell_type": "code",
   "execution_count": null,
   "id": "b500e595-8403-422f-8024-97511f82fd25",
   "metadata": {},
   "outputs": [],
   "source": [
    "function newsvendor_t(sp::Model, stage::Int64)\n",
    "    @variables(sp, begin\n",
    "        x >= 0, (SDDP.State, initial_value = 2)\n",
    "        0 <= u <= 1\n",
    "        w\n",
    "    end)\n",
    "    @constraint(sp, x.out == x.in - u + w)\n",
    "    SDDP.add_objective_state(\n",
    "        sp;\n",
    "        initial_value = 1.5,\n",
    "        lower_bound = 0.75,\n",
    "        upper_bound = 2.25,\n",
    "        lipschitz = 100.0,\n",
    "    ) do incpt, ξ\n",
    "        return incpt + ξ.eps\n",
    "    end\n",
    "    uncertainty = get_uncertainty_support(;\n",
    "        supply = 0:0.05:0.5,\n",
    "        eps    = [-0.25, -0.125, 0.125, 0.25],\n",
    "    )\n",
    "    SDDP.parameterize(sp, uncertainty) do ξ\n",
    "        JuMP.fix(w, ξ.supply)\n",
    "        price = SDDP.objective_state(sp)\n",
    "        @stageobjective(sp, price * u)\n",
    "    end\n",
    "end"
   ]
  },
  {
   "cell_type": "code",
   "execution_count": null,
   "id": "88d568c5-a464-4c17-b256-036b8cca2368",
   "metadata": {},
   "outputs": [],
   "source": [
    "model = SDDP.PolicyGraph(\n",
    "    newsvendor_t,\n",
    "    SDDP.LinearGraph(3);\n",
    "    sense       = :Max,\n",
    "    upper_bound = 50.0,\n",
    "    optimizer   = HiGHS.Optimizer,\n",
    ")"
   ]
  },
  {
   "cell_type": "code",
   "execution_count": null,
   "id": "02a4be07-e580-42f1-851e-a23a6029709b",
   "metadata": {
    "scrolled": true
   },
   "outputs": [],
   "source": [
    "SDDP.train(\n",
    "    model;\n",
    "    log_frequency = 10,\n",
    "    time_limit    = 20.0,\n",
    "    cut_type      = SDDP.MULTI_CUT,\n",
    ")"
   ]
  },
  {
   "cell_type": "code",
   "execution_count": null,
   "id": "0c610033-a6ee-48f0-9529-2d0202689535",
   "metadata": {
    "scrolled": true
   },
   "outputs": [],
   "source": [
    "results = SDDP.simulate(model, 500)\n",
    "objectives = [sum(s[:stage_objective] for s in simulation) for simulation in results]"
   ]
  },
  {
   "cell_type": "code",
   "execution_count": null,
   "id": "935db629-afcd-49c5-9a8b-3bfdbfd285be",
   "metadata": {},
   "outputs": [],
   "source": [
    "round(Statistics.mean(objectives); digits = 2)"
   ]
  },
  {
   "cell_type": "code",
   "execution_count": null,
   "id": "66ce2838-8ef4-4e78-a7c6-08454f2e1f86",
   "metadata": {
    "scrolled": true
   },
   "outputs": [],
   "source": [
    "# Textbook implementation (sloppy)\n",
    "function newsvendor_example(; cut_type)\n",
    "    model = SDDP.PolicyGraph(\n",
    "        SDDP.LinearGraph(3);\n",
    "        sense = :Max,\n",
    "        upper_bound = 50.0,\n",
    "        optimizer = HiGHS.Optimizer,\n",
    "    ) do subproblem, stage\n",
    "        @variables(subproblem, begin\n",
    "            x >= 0, (SDDP.State, initial_value = 2)\n",
    "            0 <= u <= 1\n",
    "            w\n",
    "        end)\n",
    "        @constraint(subproblem, x.out == x.in - u + w)\n",
    "        SDDP.add_objective_state(\n",
    "            subproblem;\n",
    "            initial_value = 1.5,\n",
    "            lower_bound = 0.75,\n",
    "            upper_bound = 2.25,\n",
    "            lipschitz = 100.0,\n",
    "        ) do y, ω\n",
    "            return y + ω.price_noise\n",
    "        end\n",
    "        noise_terms = get_uncertainty_support(;\n",
    "            demand = 0:0.05:0.5,\n",
    "            price_noise = [-0.25, -0.125, 0.125, 0.25],\n",
    "        )\n",
    "        SDDP.parameterize(subproblem, noise_terms) do ω\n",
    "            JuMP.fix(w, ω.demand)\n",
    "            price = SDDP.objective_state(subproblem)\n",
    "            @stageobjective(subproblem, price * u)\n",
    "        end\n",
    "    end\n",
    "    SDDP.train(\n",
    "        model;\n",
    "        log_frequency = 10,\n",
    "        time_limit = 20.0,\n",
    "        cut_type   = cut_type,\n",
    "    )\n",
    "    @test abs(SDDP.calculate_bound(model) - 4.04) <= 0.05\n",
    "    results = SDDP.simulate(model, 500)\n",
    "    objectives = [sum(s[:stage_objective] for s in simulation) for simulation in results]\n",
    "    @test abs(round(Statistics.mean(objectives); digits = 2) - 4.04) <= 0.1\n",
    "    return\n",
    "end\n",
    "\n",
    "newsvendor_example(; cut_type = SDDP.SINGLE_CUT)\n",
    "newsvendor_example(; cut_type = SDDP.MULTI_CUT)"
   ]
  }
 ],
 "metadata": {
  "kernelspec": {
   "display_name": "Julia 1.10.5",
   "language": "julia",
   "name": "julia-1.10"
  },
  "language_info": {
   "file_extension": ".jl",
   "mimetype": "application/julia",
   "name": "julia",
   "version": "1.10.5"
  }
 },
 "nbformat": 4,
 "nbformat_minor": 5
}
